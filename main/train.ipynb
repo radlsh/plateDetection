{
 "cells": [
  {
   "cell_type": "markdown",
   "metadata": {},
   "source": [
    "# 1.0 Подготовка датасета\n",
    "## 1.1 Составление выборки\n",
    " Проанализировав предоставленные данные, я выбал из них только data 4, потому что они больше всего подходили под поставленную задачу, и выбрал от туда лишь картинки с аннотациями."
   ]
  },
  {
   "cell_type": "code",
   "execution_count": 1,
   "metadata": {},
   "outputs": [],
   "source": [
    "# Импортируем модуль os для работы с операционной системой\n",
    "import os\n",
    "# Получаем список файлов из папки с анотациями\n",
    "l_labels = os.listdir(r'given datas\\Data4\\Data4\\fullAnnotations')\n",
    "# Сортируем его\n",
    "l_labels.sort()\n",
    "# Создаем пустые списки, в которые перенесем пути к файлам\n",
    "images = []\n",
    "labels = []\n",
    "# цикл проходиться по названиям файлов лейблов и заносит пути к файлам изображений и лейблов с таким же названием\n",
    "for i in l_labels:\n",
    "    # добавление путей в списки\n",
    "    images.append(os.path.join(r'given datas\\Data4\\Data4\\full', i[:-4] +'.jpg'))\n",
    "    labels.append(os.path.join(r'given datas\\Data4\\Data4\\fullAnnotations', i[:-4] + '.txt'))"
   ]
  },
  {
   "cell_type": "markdown",
   "metadata": {},
   "source": [
    "## 1.2 Распределение данных на train, validation и test."
   ]
  },
  {
   "cell_type": "code",
   "execution_count": 2,
   "metadata": {},
   "outputs": [
    {
     "name": "stdout",
     "output_type": "stream",
     "text": [
      "Количество элементов в train выборке: 4720\n",
      "Количество элементов в val выборке: 590\n",
      "Количество элементов в test выборке: 590\n"
     ]
    }
   ],
   "source": [
    "# Из библиотеки с готовыми алгоритмами для машинного обучения импортируем модуль для разбиения выборок данных\n",
    "from sklearn.model_selection import train_test_split\n",
    "# Импортиурем бибилиотеку для работы с массивам данных\n",
    "import numpy as np\n",
    "# Разбиваем нашу обучающую выборку на train и val в соотношении 0.8 и 0.2 относительно общего обьема\n",
    "train_images, val_images, train_labels, val_labels = train_test_split(images, labels, test_size=0.2, random_state=42)\n",
    "# Разбиваем выборку val пополам на test и val в соотношении 0.1 и 0.1 относительно общего обьема\n",
    "val_images, test_images, val_labels, test_labels = train_test_split(val_images, val_labels, test_size=0.5, random_state=42)\n",
    "# Выводим информацию о получившихся выборках train, val, test:\n",
    "print(f'Количество элементов в train выборке: {np.array(train_images).size}')\n",
    "print(f'Количество элементов в val выборке: {np.array(val_images).size}')\n",
    "print(f'Количество элементов в test выборке: {np.array(test_images).size}')"
   ]
  },
  {
   "cell_type": "markdown",
   "metadata": {},
   "source": [
    "## 1.3 Создание структуры датасета"
   ]
  },
  {
   "cell_type": "code",
   "execution_count": 60,
   "metadata": {},
   "outputs": [],
   "source": [
    "# Создаем переменную, в котрой будет храниться название директорий датасета\n",
    "dataset= 'dataset'\n",
    "# Созаем кортеж, в котором будем хранить названия всех путей датасета\n",
    "dirs = ('images/train', 'images/val', 'images/test', 'labels/train', 'labels/val', 'labels/test')\n",
    "# Создаем цикл, проверяющий наличие данных директорий, при их отсуствие он их создает\n",
    "for dir in dirs:\n",
    "    # Создаем путь до директории датасета\n",
    "    path_dir = os.path.join(dataset, dir)\n",
    "    # Если директория еще не создана, то создаем ее\n",
    "    if not os.path.exists(path_dir):\n",
    "        os.makedirs(path_dir)"
   ]
  },
  {
   "cell_type": "markdown",
   "metadata": {},
   "source": [
    "## 1.4 Копирование файлов из data 4 в dataset"
   ]
  },
  {
   "cell_type": "code",
   "execution_count": 61,
   "metadata": {},
   "outputs": [],
   "source": [
    "# Импортируем функцию для копирования файлов\n",
    "from shutil import copy\n",
    "# Создаем функцию для копирования файлов из одной директории в другую\n",
    "def move_files(files, destination):\n",
    "    # Цикл проходиться по всем файлам из переменной\n",
    "    for file in files:\n",
    "        # Пытаемся копировать, если происходит ошибка, то выводится в консоль сообщение об ошибке\n",
    "        try:\n",
    "           copy(file, destination)\n",
    "        except:\n",
    "            print(f'Ошибка копирования: {file}')\n",
    "# Создаем двухмерный массив со всеми файлами внтури\n",
    "all_files = [[train_images, val_images, test_images], [train_labels, val_labels, test_labels]]\n",
    "# Создаем кортеж с переменнами нашей выборки\n",
    "variabels  = ('images', 'labels')\n",
    "# Создаем кортеж с задачами выборки\n",
    "tasks = ('train', 'val', 'test')\n",
    "# Создаем цикл, который копирует файлы используя написанную выше функцию\n",
    "for i in range(len(variabels)):\n",
    "    path = os.path.join(dataset, variabels[i])\n",
    "    for j in range(len(tasks)):\n",
    "        move_files(all_files[i][j], os.path.join(path, tasks[j]))"
   ]
  },
  {
   "cell_type": "markdown",
   "metadata": {},
   "source": [
    "# 2.0 Создание файла data.yaml\n",
    "### 2.1 Создаем в директории файл data.yaml\n",
    "### 2.2 Передаем в этот файл пути до наших выборок: train, val, test\n",
    "### 2.3 Передаем количество классов и их имена в файл\n",
    "\n",
    "При необхоимости нужно заменить путь до нашего датасета в settings.yaml по данному пути: \"C:\\Users\\Server\\AppData\\Roaming\\Ultralytics\""
   ]
  },
  {
   "cell_type": "markdown",
   "metadata": {},
   "source": [
    "# 3.0 Обучение модели\n",
    "### 3.1 Загрузка предобученной модели YOLO"
   ]
  },
  {
   "cell_type": "code",
   "execution_count": 10,
   "metadata": {},
   "outputs": [],
   "source": [
    "# Импортиумем из библиотеки ultralytics модуль YOLO\n",
    "from ultralytics import YOLO\n",
    "# Загружаем предобученную модель yolov8n.pt (версия - 8, размер - nano)\n",
    "model = YOLO('yolov8n.pt')\n"
   ]
  },
  {
   "cell_type": "markdown",
   "metadata": {},
   "source": [
    "### 3.2 Тренировка модели"
   ]
  },
  {
   "cell_type": "code",
   "execution_count": 11,
   "metadata": {},
   "outputs": [
    {
     "name": "stdout",
     "output_type": "stream",
     "text": [
      "Ultralytics YOLOv8.1.34 🚀 Python-3.11.8 torch-2.2.1+cpu CPU (Intel Core(TM) i7-9700T 2.00GHz)\n",
      "\u001b[34m\u001b[1mengine\\trainer: \u001b[0mtask=detect, mode=train, model=yolov8n.pt, data=data.yaml, epochs=4, time=None, patience=100, batch=16, imgsz=640, save=True, save_period=-1, cache=False, device=None, workers=8, project=None, name=yolo, exist_ok=False, pretrained=True, optimizer=AdamW, verbose=True, seed=0, deterministic=True, single_cls=False, rect=False, cos_lr=False, close_mosaic=10, resume=False, amp=True, fraction=1.0, profile=False, freeze=None, multi_scale=False, overlap_mask=True, mask_ratio=4, dropout=0.0, val=True, split=val, save_json=False, save_hybrid=False, conf=None, iou=0.7, max_det=300, half=False, dnn=False, plots=True, source=None, vid_stride=1, stream_buffer=False, visualize=False, augment=False, agnostic_nms=False, classes=None, retina_masks=False, embed=None, show=False, save_frames=False, save_txt=False, save_conf=False, save_crop=False, show_labels=True, show_conf=True, show_boxes=True, line_width=None, format=torchscript, keras=False, optimize=False, int8=False, dynamic=False, simplify=False, opset=None, workspace=4, nms=False, lr0=0.01, lrf=0.01, momentum=0.937, weight_decay=0.0005, warmup_epochs=3.0, warmup_momentum=0.8, warmup_bias_lr=0.1, box=7.5, cls=0.5, dfl=1.5, pose=12.0, kobj=1.0, label_smoothing=0.0, nbs=64, hsv_h=0.015, hsv_s=0.7, hsv_v=0.4, degrees=0.0, translate=0.1, scale=0.5, shear=0.0, perspective=0.0, flipud=0.0, fliplr=0.5, bgr=0.0, mosaic=1.0, mixup=0.0, copy_paste=0.0, auto_augment=randaugment, erasing=0.4, crop_fraction=1.0, cfg=None, tracker=botsort.yaml, save_dir=runs\\detect\\yolo\n",
      "Overriding model.yaml nc=80 with nc=1\n",
      "\n",
      "                   from  n    params  module                                       arguments                     \n",
      "  0                  -1  1       464  ultralytics.nn.modules.conv.Conv             [3, 16, 3, 2]                 \n",
      "  1                  -1  1      4672  ultralytics.nn.modules.conv.Conv             [16, 32, 3, 2]                \n",
      "  2                  -1  1      7360  ultralytics.nn.modules.block.C2f             [32, 32, 1, True]             \n",
      "  3                  -1  1     18560  ultralytics.nn.modules.conv.Conv             [32, 64, 3, 2]                \n",
      "  4                  -1  2     49664  ultralytics.nn.modules.block.C2f             [64, 64, 2, True]             \n",
      "  5                  -1  1     73984  ultralytics.nn.modules.conv.Conv             [64, 128, 3, 2]               \n",
      "  6                  -1  2    197632  ultralytics.nn.modules.block.C2f             [128, 128, 2, True]           \n",
      "  7                  -1  1    295424  ultralytics.nn.modules.conv.Conv             [128, 256, 3, 2]              \n",
      "  8                  -1  1    460288  ultralytics.nn.modules.block.C2f             [256, 256, 1, True]           \n",
      "  9                  -1  1    164608  ultralytics.nn.modules.block.SPPF            [256, 256, 5]                 \n",
      " 10                  -1  1         0  torch.nn.modules.upsampling.Upsample         [None, 2, 'nearest']          \n",
      " 11             [-1, 6]  1         0  ultralytics.nn.modules.conv.Concat           [1]                           \n",
      " 12                  -1  1    148224  ultralytics.nn.modules.block.C2f             [384, 128, 1]                 \n",
      " 13                  -1  1         0  torch.nn.modules.upsampling.Upsample         [None, 2, 'nearest']          \n",
      " 14             [-1, 4]  1         0  ultralytics.nn.modules.conv.Concat           [1]                           \n",
      " 15                  -1  1     37248  ultralytics.nn.modules.block.C2f             [192, 64, 1]                  \n",
      " 16                  -1  1     36992  ultralytics.nn.modules.conv.Conv             [64, 64, 3, 2]                \n",
      " 17            [-1, 12]  1         0  ultralytics.nn.modules.conv.Concat           [1]                           \n",
      " 18                  -1  1    123648  ultralytics.nn.modules.block.C2f             [192, 128, 1]                 \n",
      " 19                  -1  1    147712  ultralytics.nn.modules.conv.Conv             [128, 128, 3, 2]              \n",
      " 20             [-1, 9]  1         0  ultralytics.nn.modules.conv.Concat           [1]                           \n",
      " 21                  -1  1    493056  ultralytics.nn.modules.block.C2f             [384, 256, 1]                 \n",
      " 22        [15, 18, 21]  1    751507  ultralytics.nn.modules.head.Detect           [1, [64, 128, 256]]           \n",
      "Model summary: 225 layers, 3011043 parameters, 3011027 gradients, 8.2 GFLOPs\n",
      "\n",
      "Transferred 319/355 items from pretrained weights\n",
      "Freezing layer 'model.22.dfl.conv.weight'\n"
     ]
    },
    {
     "name": "stderr",
     "output_type": "stream",
     "text": [
      "\u001b[34m\u001b[1mtrain: \u001b[0mScanning C:\\Users\\Ws2024\\Desktop\\Мой проект\\Модуль А\\dataset\\labels\\train.cache... 4720 images, 60 backgrounds, 0 corrupt: 100%|██████████| 4720/4720 [00:00<?, ?it/s]\n",
      "\u001b[34m\u001b[1mval: \u001b[0mScanning C:\\Users\\Ws2024\\Desktop\\Мой проект\\Модуль А\\dataset\\labels\\val.cache... 590 images, 12 backgrounds, 0 corrupt: 100%|██████████| 590/590 [00:00<?, ?it/s]"
     ]
    },
    {
     "name": "stdout",
     "output_type": "stream",
     "text": [
      "Plotting labels to runs\\detect\\yolo\\labels.jpg... \n"
     ]
    },
    {
     "name": "stderr",
     "output_type": "stream",
     "text": [
      "\n"
     ]
    },
    {
     "name": "stdout",
     "output_type": "stream",
     "text": [
      "\u001b[34m\u001b[1moptimizer:\u001b[0m AdamW(lr=0.01, momentum=0.937) with parameter groups 57 weight(decay=0.0), 64 weight(decay=0.0005), 63 bias(decay=0.0)\n",
      "Image sizes 640 train, 640 val\n",
      "Using 0 dataloader workers\n",
      "Logging results to \u001b[1mruns\\detect\\yolo\u001b[0m\n",
      "Starting training for 4 epochs...\n",
      "\n",
      "      Epoch    GPU_mem   box_loss   cls_loss   dfl_loss  Instances       Size\n"
     ]
    },
    {
     "name": "stderr",
     "output_type": "stream",
     "text": [
      "        1/4         0G       1.16      1.002      1.137         30        640: 100%|██████████| 295/295 [29:21<00:00,  5.97s/it]\n",
      "                 Class     Images  Instances      Box(P          R      mAP50  mAP50-95): 100%|██████████| 19/19 [01:04<00:00,  3.41s/it]"
     ]
    },
    {
     "name": "stdout",
     "output_type": "stream",
     "text": [
      "                   all        590        660      0.958      0.866      0.932      0.634\n"
     ]
    },
    {
     "name": "stderr",
     "output_type": "stream",
     "text": [
      "\n"
     ]
    },
    {
     "name": "stdout",
     "output_type": "stream",
     "text": [
      "\n",
      "      Epoch    GPU_mem   box_loss   cls_loss   dfl_loss  Instances       Size\n"
     ]
    },
    {
     "name": "stderr",
     "output_type": "stream",
     "text": [
      "        2/4         0G      1.108     0.7652      1.136         25        640: 100%|██████████| 295/295 [32:35<00:00,  6.63s/it]\n",
      "                 Class     Images  Instances      Box(P          R      mAP50  mAP50-95): 100%|██████████| 19/19 [01:10<00:00,  3.69s/it]"
     ]
    },
    {
     "name": "stdout",
     "output_type": "stream",
     "text": [
      "                   all        590        660      0.897      0.858      0.912      0.653\n"
     ]
    },
    {
     "name": "stderr",
     "output_type": "stream",
     "text": [
      "\n"
     ]
    },
    {
     "name": "stdout",
     "output_type": "stream",
     "text": [
      "\n",
      "      Epoch    GPU_mem   box_loss   cls_loss   dfl_loss  Instances       Size\n"
     ]
    },
    {
     "name": "stderr",
     "output_type": "stream",
     "text": [
      "        3/4         0G      1.023     0.6775      1.103         30        640: 100%|██████████| 295/295 [31:49<00:00,  6.47s/it]\n",
      "                 Class     Images  Instances      Box(P          R      mAP50  mAP50-95): 100%|██████████| 19/19 [01:08<00:00,  3.63s/it]"
     ]
    },
    {
     "name": "stdout",
     "output_type": "stream",
     "text": [
      "                   all        590        660      0.962      0.881      0.945      0.697\n"
     ]
    },
    {
     "name": "stderr",
     "output_type": "stream",
     "text": [
      "\n"
     ]
    },
    {
     "name": "stdout",
     "output_type": "stream",
     "text": [
      "\n",
      "      Epoch    GPU_mem   box_loss   cls_loss   dfl_loss  Instances       Size\n"
     ]
    },
    {
     "name": "stderr",
     "output_type": "stream",
     "text": [
      "        4/4         0G     0.9463     0.5812      1.053         38        640: 100%|██████████| 295/295 [31:41<00:00,  6.45s/it]\n",
      "                 Class     Images  Instances      Box(P          R      mAP50  mAP50-95): 100%|██████████| 19/19 [01:08<00:00,  3.61s/it]"
     ]
    },
    {
     "name": "stdout",
     "output_type": "stream",
     "text": [
      "                   all        590        660      0.971      0.935      0.966      0.749\n"
     ]
    },
    {
     "name": "stderr",
     "output_type": "stream",
     "text": [
      "\n"
     ]
    },
    {
     "name": "stdout",
     "output_type": "stream",
     "text": [
      "\n",
      "4 epochs completed in 2.167 hours.\n",
      "Optimizer stripped from runs\\detect\\yolo\\weights\\last.pt, 6.2MB\n",
      "Optimizer stripped from runs\\detect\\yolo\\weights\\best.pt, 6.2MB\n",
      "\n",
      "Validating runs\\detect\\yolo\\weights\\best.pt...\n",
      "Ultralytics YOLOv8.1.34 🚀 Python-3.11.8 torch-2.2.1+cpu CPU (Intel Core(TM) i7-9700T 2.00GHz)\n",
      "Model summary (fused): 168 layers, 3005843 parameters, 0 gradients, 8.1 GFLOPs\n"
     ]
    },
    {
     "name": "stderr",
     "output_type": "stream",
     "text": [
      "                 Class     Images  Instances      Box(P          R      mAP50  mAP50-95): 100%|██████████| 19/19 [00:57<00:00,  3.02s/it]\n"
     ]
    },
    {
     "name": "stdout",
     "output_type": "stream",
     "text": [
      "                   all        590        660       0.97      0.935      0.966      0.749\n",
      "Speed: 2.6ms preprocess, 84.4ms inference, 0.0ms loss, 0.3ms postprocess per image\n",
      "Results saved to \u001b[1mruns\\detect\\yolo\u001b[0m\n"
     ]
    }
   ],
   "source": [
    "# Задаем параметр обучения модели и обучаем ее\n",
    "results = model.train(data='data.yaml', epochs=4, optimizer = 'AdamW', name = 'yolo')\n"
   ]
  }
 ],
 "metadata": {
  "kernelspec": {
   "display_name": "Python 3",
   "language": "python",
   "name": "python3"
  },
  "language_info": {
   "codemirror_mode": {
    "name": "ipython",
    "version": 3
   },
   "file_extension": ".py",
   "mimetype": "text/x-python",
   "name": "python",
   "nbconvert_exporter": "python",
   "pygments_lexer": "ipython3",
   "version": "3.11.7"
  }
 },
 "nbformat": 4,
 "nbformat_minor": 2
}
